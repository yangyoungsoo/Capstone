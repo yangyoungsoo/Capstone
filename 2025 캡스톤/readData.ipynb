{
 "cells": [
  {
   "cell_type": "code",
   "execution_count": 10,
   "id": "7ba35c9f",
   "metadata": {},
   "outputs": [
    {
     "name": "stderr",
     "output_type": "stream",
     "text": [
      "C:\\Users\\young\\AppData\\Local\\Temp\\ipykernel_14092\\4060673812.py:6: DtypeWarning: Columns (8,9,10,11,12,13,15,17,18,20,21,23,24,25,26,27,28,29) have mixed types. Specify dtype option on import or set low_memory=False.\n",
      "  data = pd.read_csv('spy_2020_2022.csv')\n"
     ]
    }
   ],
   "source": [
    "import pandas as pd\n",
    "import pandas_datareader.data as web\n",
    "import yfinance as yf\n",
    "\n",
    "# 1. SPY 옵션 체인 데이터 로드\n",
    "data = pd.read_csv('spy_2020_2022.csv')"
   ]
  },
  {
   "cell_type": "code",
   "execution_count": null,
   "id": "8ce633a9",
   "metadata": {},
   "outputs": [
    {
     "name": "stderr",
     "output_type": "stream",
     "text": [
      "C:\\Users\\young\\AppData\\Local\\Temp\\ipykernel_14092\\3686543891.py:9: FutureWarning: DataFrame.fillna with 'method' is deprecated and will raise in a future version. Use obj.ffill() or obj.bfill() instead.\n",
      "  r_data = r_data.fillna(method='ffill')\n"
     ]
    },
    {
     "name": "stdout",
     "output_type": "stream",
     "text": [
      "  QUOTE_DATE     r     q\n",
      "0 2021-09-01  0.07  1.28\n",
      "1 2021-09-01  0.07  1.28\n",
      "2 2021-09-01  0.07  1.28\n",
      "3 2021-09-01  0.07  1.28\n",
      "4 2021-09-01  0.07  1.28\n"
     ]
    }
   ],
   "source": [
    "# 2. 컬럼명 정리 (공백, 대괄호 제거)\n",
    "data.columns = data.columns.str.strip().str.replace('[', '').str.replace(']', '')\n",
    "\n",
    "# 3. QUOTE_DATE를 datetime 타입으로 변환\n",
    "data['QUOTE_DATE'] = pd.to_datetime(data['QUOTE_DATE'])\n",
    "\n",
    "# 4. 무위험이자율 (r) 가져오기\n",
    "r_data = web.DataReader('DGS1', 'fred', start='2020-01-01', end='2022-12-31')\n",
    "r_data = r_data.fillna(method='ffill')\n",
    "r_data.index = pd.to_datetime(r_data.index)\n",
    "\n",
    "# 5. QUOTE_DATE 기준 merge\n",
    "data = data.merge(r_data, left_on='QUOTE_DATE', right_index=True, how='left')\n",
    "data = data.rename(columns={'DGS1': 'r'})  # r이라는 컬럼명으로 통일\n",
    "\n",
    "# 6. 배당수익률 (q) 가져오기\n",
    "spy = yf.Ticker(\"SPY\")\n",
    "div_yield = spy.info['dividendYield']\n",
    "\n",
    "# 7. 모든 행에 배당수익률(q) 추가\n",
    "data['q'] = div_yield\n",
    "\n",
    "# 8. 결과 확인\n",
    "print(data[['QUOTE_DATE', 'r', 'q']].head())\n",
    "\n",
    "# 9. (선택) 저장\n",
    "data.to_csv('spy_2020_2022_with_rq.csv', index=False)"
   ]
  }
 ],
 "metadata": {
  "kernelspec": {
   "display_name": "tensor",
   "language": "python",
   "name": "python3"
  },
  "language_info": {
   "codemirror_mode": {
    "name": "ipython",
    "version": 3
   },
   "file_extension": ".py",
   "mimetype": "text/x-python",
   "name": "python",
   "nbconvert_exporter": "python",
   "pygments_lexer": "ipython3",
   "version": "3.12.3"
  }
 },
 "nbformat": 4,
 "nbformat_minor": 5
}
